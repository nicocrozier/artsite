{
 "cells": [
  {
   "cell_type": "code",
   "execution_count": 1,
   "id": "f3a4da8f",
   "metadata": {},
   "outputs": [],
   "source": [
    "import csv\n",
    "import nltk\n",
    "\n"
   ]
  },
  {
   "cell_type": "code",
   "execution_count": 2,
   "id": "38a2376c",
   "metadata": {},
   "outputs": [],
   "source": [
    "# set the path to your input and output CSV files\n",
    "input_file = \"art_test.csv\"\n",
    "output_file = \"art_test_counted.csv\"\n",
    "\n",
    "\n"
   ]
  },
  {
   "cell_type": "code",
   "execution_count": 7,
   "id": "fa2a645f",
   "metadata": {},
   "outputs": [],
   "source": [
    "\n",
    "\n",
    "# Open the input CSV file and read the content\n",
    "with open(input_file, \"r\") as csv_file:\n",
    "    reader = csv.DictReader(csv_file)\n",
    "    data = [row for row in reader]\n",
    "\n",
    "\n"
   ]
  },
  {
   "cell_type": "code",
   "execution_count": 8,
   "id": "a56e69dd",
   "metadata": {},
   "outputs": [],
   "source": [
    "# Tokenize the 'content' column and append the number of tokens to a new column called 'tokens_found'\n",
    "for row in data:\n",
    "    content = row['content']\n",
    "    tokens = nltk.word_tokenize(content)\n",
    "    token_count = len(tokens)\n",
    "    row['tokens_found'] = token_count\n",
    "\n",
    "\n"
   ]
  },
  {
   "cell_type": "code",
   "execution_count": 9,
   "id": "fa8d33a2",
   "metadata": {},
   "outputs": [],
   "source": [
    "# Write the updated data to the output CSV file\n",
    "with open(output_file, \"w\", newline=\"\") as csv_file:\n",
    "    fieldnames = list(data[0].keys())\n",
    "    writer = csv.DictWriter(csv_file, fieldnames=fieldnames)\n",
    "    writer.writeheader()\n",
    "    for row in data:\n",
    "        writer.writerow(row)"
   ]
  },
  {
   "cell_type": "code",
   "execution_count": null,
   "id": "db73164f",
   "metadata": {},
   "outputs": [],
   "source": []
  }
 ],
 "metadata": {
  "kernelspec": {
   "display_name": "Python 3 (ipykernel)",
   "language": "python",
   "name": "python3"
  },
  "language_info": {
   "codemirror_mode": {
    "name": "ipython",
    "version": 3
   },
   "file_extension": ".py",
   "mimetype": "text/x-python",
   "name": "python",
   "nbconvert_exporter": "python",
   "pygments_lexer": "ipython3",
   "version": "3.10.6"
  }
 },
 "nbformat": 4,
 "nbformat_minor": 5
}
