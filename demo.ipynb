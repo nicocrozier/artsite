{
 "cells": [
  {
   "cell_type": "code",
   "execution_count": 2,
   "id": "ffdd33bd",
   "metadata": {},
   "outputs": [],
   "source": [
    "import numpy as np\n",
    "import openai\n",
    "import pandas as pd\n",
    "import pickle\n",
    "import tiktoken\n"
   ]
  },
  {
   "cell_type": "code",
   "execution_count": 2,
   "id": "c39f9dba",
   "metadata": {},
   "outputs": [],
   "source": [
    "COMPLETIONS_MODEL = \"text-curie-001\"\n",
    "EMBEDDING_MODEL = \"text-embedding-ada-002\""
   ]
  },
  {
   "cell_type": "code",
   "execution_count": 3,
   "id": "a9c9ac0c",
   "metadata": {},
   "outputs": [],
   "source": [
    "openai.api_key = 'OPENAI-API-KEY'"
   ]
  },
  {
   "cell_type": "code",
   "execution_count": 55,
   "id": "97583a11",
   "metadata": {},
   "outputs": [
    {
     "data": {
      "text/plain": [
       "\"John Galt is a fictional character in Ayn Rand's novel Atlas Shrugged. He is the protagonist and the main antagonist of the novel.\""
      ]
     },
     "execution_count": 55,
     "metadata": {},
     "output_type": "execute_result"
    }
   ],
   "source": [
    "prompt = \"Who is John Galt?\"\n",
    "\n",
    "openai.Completion.create(\n",
    "    prompt=prompt,\n",
    "    temperature=0,\n",
    "    max_tokens=300,\n",
    "    model=COMPLETIONS_MODEL\n",
    ")[\"choices\"][0][\"text\"].strip(\" \\n\")"
   ]
  },
  {
   "cell_type": "markdown",
   "id": "fa3af247",
   "metadata": {},
   "source": [
    "<h2>Slight Example</h2>"
   ]
  },
  {
   "cell_type": "code",
   "execution_count": 13,
   "id": "9fe5af11",
   "metadata": {},
   "outputs": [
    {
     "data": {
      "text/plain": [
       "'Gianmarco Tamberi and Mutaz Essa Barshim both won the gold medal in the event.'"
      ]
     },
     "execution_count": 13,
     "metadata": {},
     "output_type": "execute_result"
    }
   ],
   "source": [
    "prompt = \"\"\"Answer the question as truthfully as possible using the provided text, and if the answer is not contained within the text below, say \"I don't know\"\n",
    "\n",
    "Context:\n",
    "The men's high jump event at the 2020 Summer Olympics took place between 30 July and 1 August 2021 at the Olympic Stadium.\n",
    "33 athletes from 24 nations competed; the total possible number depended on how many nations would use universality places \n",
    "to enter athletes in addition to the 32 qualifying through mark or ranking (no universality places were used in 2021).\n",
    "Italian athlete Gianmarco Tamberi along with Qatari athlete Mutaz Essa Barshim emerged as joint winners of the event following\n",
    "a tie between both of them as they cleared 2.37m. Both Tamberi and Barshim agreed to share the gold medal in a rare instance\n",
    "where the athletes of different nations had agreed to share the same medal in the history of Olympics. \n",
    "Barshim in particular was heard to ask a competition official \"Can we have two golds?\" in response to being offered a \n",
    "'jump off'. Maksim Nedasekau of Belarus took bronze. The medals were the first ever in the men's high jump for Italy and \n",
    "Belarus, the first gold in the men's high jump for Italy and Qatar, and the third consecutive medal in the men's high jump\n",
    "for Qatar (all by Barshim). Barshim became only the second man to earn three medals in high jump, joining Patrik Sjöberg\n",
    "of Sweden (1984 to 1992).\n",
    "\n",
    "Q: Who won the 2020 Summer Olympics men's high jump?\n",
    "A:\"\"\"\n",
    "\n",
    "openai.Completion.create(\n",
    "    prompt=prompt,\n",
    "    temperature=0,\n",
    "    max_tokens=300,\n",
    "    top_p=1,\n",
    "    frequency_penalty=0,\n",
    "    presence_penalty=0,\n",
    "    model=COMPLETIONS_MODEL\n",
    ")[\"choices\"][0][\"text\"].strip(\" \\n\")"
   ]
  },
  {
   "cell_type": "markdown",
   "id": "f0ac58f4",
   "metadata": {},
   "source": [
    "<h2> Start of step 2 </h2>"
   ]
  },
  {
   "cell_type": "code",
   "execution_count": 147,
   "id": "740eab26",
   "metadata": {},
   "outputs": [
    {
     "name": "stdout",
     "output_type": "stream",
     "text": [
      "9 rows in the data.\n"
     ]
    },
    {
     "data": {
      "text/html": [
       "<div>\n",
       "<style scoped>\n",
       "    .dataframe tbody tr th:only-of-type {\n",
       "        vertical-align: middle;\n",
       "    }\n",
       "\n",
       "    .dataframe tbody tr th {\n",
       "        vertical-align: top;\n",
       "    }\n",
       "\n",
       "    .dataframe thead th {\n",
       "        text-align: right;\n",
       "    }\n",
       "</style>\n",
       "<table border=\"1\" class=\"dataframe\">\n",
       "  <thead>\n",
       "    <tr style=\"text-align: right;\">\n",
       "      <th></th>\n",
       "      <th></th>\n",
       "      <th>content</th>\n",
       "      <th>tokens</th>\n",
       "    </tr>\n",
       "    <tr>\n",
       "      <th>title</th>\n",
       "      <th>heading</th>\n",
       "      <th></th>\n",
       "      <th></th>\n",
       "    </tr>\n",
       "  </thead>\n",
       "  <tbody>\n",
       "    <tr>\n",
       "      <th>Questions and answers - Customizing URLs</th>\n",
       "      <th>Url</th>\n",
       "      <td>Your overall profile, artwork, and portfolios ...</td>\n",
       "      <td>69</td>\n",
       "    </tr>\n",
       "    <tr>\n",
       "      <th>Questions and answers - Why Join Pro</th>\n",
       "      <th>Join Pro</th>\n",
       "      <td>Pro members get access to many exclusive benef...</td>\n",
       "      <td>26</td>\n",
       "    </tr>\n",
       "    <tr>\n",
       "      <th>Questions and answers - Pro members</th>\n",
       "      <th>Summary</th>\n",
       "      <td>A personal Showroom to sell their original and...</td>\n",
       "      <td>52</td>\n",
       "    </tr>\n",
       "    <tr>\n",
       "      <th>Questions and answers - Art and design lovers</th>\n",
       "      <th>Summary</th>\n",
       "      <td>Discover works in over 75 categories and style...</td>\n",
       "      <td>83</td>\n",
       "    </tr>\n",
       "    <tr>\n",
       "      <th>Questions and answers - Expert Selected</th>\n",
       "      <th>Summary</th>\n",
       "      <td>Each artwork is hand-picked by our seasoned cu...</td>\n",
       "      <td>20</td>\n",
       "    </tr>\n",
       "  </tbody>\n",
       "</table>\n",
       "</div>"
      ],
      "text/plain": [
       "                                                                                                  content  \\\n",
       "title                                         heading                                                       \n",
       "Questions and answers - Customizing URLs      Url       Your overall profile, artwork, and portfolios ...   \n",
       "Questions and answers - Why Join Pro          Join Pro  Pro members get access to many exclusive benef...   \n",
       "Questions and answers - Pro members           Summary   A personal Showroom to sell their original and...   \n",
       "Questions and answers - Art and design lovers Summary   Discover works in over 75 categories and style...   \n",
       "Questions and answers - Expert Selected       Summary   Each artwork is hand-picked by our seasoned cu...   \n",
       "\n",
       "                                                        tokens  \n",
       "title                                         heading           \n",
       "Questions and answers - Customizing URLs      Url           69  \n",
       "Questions and answers - Why Join Pro          Join Pro      26  \n",
       "Questions and answers - Pro members           Summary       52  \n",
       "Questions and answers - Art and design lovers Summary       83  \n",
       "Questions and answers - Expert Selected       Summary       20  "
      ]
     },
     "execution_count": 147,
     "metadata": {},
     "output_type": "execute_result"
    }
   ],
   "source": [
    "# We have hosted the processed dataset, so you can download it directly without having to recreate it.\n",
    "# This dataset has already been split into sections, one row for each section of the Wikipedia page.\n",
    "\n",
    "df = pd.read_csv('art_test.csv')\n",
    "#df = pd.read_csv('olympics_sections_text.csv')\n",
    "df = df.set_index([\"title\", \"heading\"])\n",
    "print(f\"{len(df)} rows in the data.\")\n",
    "df.sample(5)"
   ]
  },
  {
   "cell_type": "code",
   "execution_count": 149,
   "id": "e3b07a4b",
   "metadata": {},
   "outputs": [],
   "source": [
    "def get_embedding(text: str, model: str=EMBEDDING_MODEL) -> list[float]:\n",
    "    result = openai.Embedding.create(\n",
    "      model=model,\n",
    "      input=text\n",
    "    )\n",
    "    return result[\"data\"][0][\"embedding\"]\n",
    "\n",
    "def compute_doc_embeddings(df: pd.DataFrame) -> dict[tuple[str, str], list[float]]:\n",
    "    \"\"\"\n",
    "    Create an embedding for each row in the dataframe using the OpenAI Embeddings API.\n",
    "    \n",
    "    Return a dictionary that maps between each embedding vector and the index of the row that it corresponds to.\n",
    "    \"\"\"\n",
    "    return {\n",
    "        idx: get_embedding(r.content) for idx, r in df.iterrows()\n",
    "    }"
   ]
  },
  {
   "cell_type": "code",
   "execution_count": 150,
   "id": "baf606eb",
   "metadata": {},
   "outputs": [],
   "source": [
    "def load_embeddings(fname: str) -> dict[tuple[str, str], list[float]]:\n",
    "    \"\"\"\n",
    "    Read the document embeddings and their keys from a CSV.\n",
    "    \n",
    "    fname is the path to a CSV with exactly these named columns: \n",
    "        \"title\", \"heading\", \"0\", \"1\", ... up to the length of the embedding vectors.\n",
    "    \"\"\"\n",
    "    \n",
    "    df = pd.read_csv(fname, header=0)\n",
    "    max_dim = max([int(c) for c in df.columns if c != \"title\" and c != \"heading\"])\n",
    "    return {\n",
    "           (r.title, r.heading): [r[str(i)] for i in range(max_dim + 1)] for _, r in df.iterrows()\n",
    "    }"
   ]
  },
  {
   "cell_type": "code",
   "execution_count": 180,
   "id": "1684a2b0",
   "metadata": {},
   "outputs": [],
   "source": [
    "#Calculate Embeddings\n",
    "\n",
    "document_embeddings = compute_doc_embeddings(df)"
   ]
  },
  {
   "cell_type": "code",
   "execution_count": 152,
   "id": "2e11575e",
   "metadata": {},
   "outputs": [
    {
     "name": "stdout",
     "output_type": "stream",
     "text": [
      "('Questions and answers - Why Join Pro', 'Join Pro') : [-0.01421249657869339, -0.040983621031045914, -0.012888058088719845, -0.07185579836368561, -0.02936621755361557]... (1536 entries)\n"
     ]
    }
   ],
   "source": [
    "# An example embedding:\n",
    "example_entry = list(document_embeddings.items())[0]\n",
    "print(f\"{example_entry[0]} : {example_entry[1][:5]}... ({len(example_entry[1])} entries)\")"
   ]
  },
  {
   "cell_type": "markdown",
   "id": "a209f1e9",
   "metadata": {},
   "source": [
    "<h2>2) Find the most similar document embeddings to the question embedding</h2>\n",
    "<h3>At the time of question-answering, to answer the user's query we compute the query embedding of the question and use it to find the most similar document sections. Since this is a small example, we store and search the embeddings locally. Since we have a larger dataset, we should consider using a vector search engine like Pinecone to power the search.</h3>"
   ]
  },
  {
   "cell_type": "code",
   "execution_count": 153,
   "id": "2118a631",
   "metadata": {},
   "outputs": [],
   "source": [
    "def vector_similarity(x: list[float], y: list[float]) -> float:\n",
    "    \"\"\"\n",
    "    Returns the similarity between two vectors.\n",
    "    \n",
    "    Because OpenAI Embeddings are normalized to length 1, the cosine similarity is the same as the dot product.\n",
    "    \"\"\"\n",
    "    return np.dot(np.array(x), np.array(y))\n",
    "\n",
    "def order_document_sections_by_query_similarity(query: str, contexts: dict[(str, str), np.array]) -> list[(float, (str, str))]:\n",
    "    \"\"\"\n",
    "    Find the query embedding for the supplied query, and compare it against all of the pre-calculated document embeddings\n",
    "    to find the most relevant sections. \n",
    "    \n",
    "    Return the list of document sections, sorted by relevance in descending order.\n",
    "    \"\"\"\n",
    "    query_embedding = get_embedding(query)\n",
    "    \n",
    "    document_similarities = sorted([\n",
    "        (vector_similarity(query_embedding, doc_embedding), doc_index) for doc_index, doc_embedding in contexts.items()\n",
    "    ], reverse=True)\n",
    "    \n",
    "    return document_similarities"
   ]
  },
  {
   "cell_type": "code",
   "execution_count": 154,
   "id": "8ea3c45b",
   "metadata": {},
   "outputs": [
    {
     "data": {
      "text/plain": [
       "[(0.8949881079474454, ('Questions and answers - Why Join Pro', 'Join Pro')),\n",
       " (0.759366675261, ('Questions and answers - Pro members', 'Summary')),\n",
       " (0.7559102038333371, ('Questions and answers - Artist centered', 'Summary')),\n",
       " (0.7498794704228923,\n",
       "  ('Questions and answers - Commercial Curation Services', 'Summary')),\n",
       " (0.7426365542430916, ('Questions and answers - Quality Reviewed', 'Summary'))]"
      ]
     },
     "execution_count": 154,
     "metadata": {},
     "output_type": "execute_result"
    }
   ],
   "source": [
    "order_document_sections_by_query_similarity(\"Pro member\", document_embeddings)[:5]"
   ]
  },
  {
   "cell_type": "markdown",
   "id": "e9fc294f",
   "metadata": {},
   "source": [
    "<h2>3) Add the most relevant document sections to the query prompt</h2>\n",
    "<h3>Once we've calculated the most relevant pieces of context, we construct a prompt by simply prepending them to the supplied query. It is helpful to use a query separator to help the model distinguish between separate pieces of text.<h/3>"
   ]
  },
  {
   "cell_type": "code",
   "execution_count": 156,
   "id": "526fa672",
   "metadata": {},
   "outputs": [
    {
     "data": {
      "text/plain": [
       "'Context separator contains 3 tokens'"
      ]
     },
     "execution_count": 156,
     "metadata": {},
     "output_type": "execute_result"
    }
   ],
   "source": [
    "MAX_SECTION_LEN = 300\n",
    "SEPARATOR = \"\\n* \"\n",
    "ENCODING = \"gpt2\"  # encoding for text-davinci-003\n",
    "\n",
    "encoding = tiktoken.get_encoding(ENCODING)\n",
    "separator_len = len(encoding.encode(SEPARATOR))\n",
    "\n",
    "f\"Context separator contains {separator_len} tokens\""
   ]
  },
  {
   "cell_type": "code",
   "execution_count": 157,
   "id": "59794ca6",
   "metadata": {},
   "outputs": [],
   "source": [
    "def construct_prompt(question: str, context_embeddings: dict, df: pd.DataFrame) -> str:\n",
    "    \"\"\"\n",
    "    Fetch relevant \n",
    "    \"\"\"\n",
    "    most_relevant_document_sections = order_document_sections_by_query_similarity(question, context_embeddings)\n",
    "    \n",
    "    chosen_sections = []\n",
    "    chosen_sections_len = 0\n",
    "    chosen_sections_indexes = []\n",
    "     \n",
    "    for _, section_index in most_relevant_document_sections:\n",
    "        # Add contexts until we run out of space.        \n",
    "        document_section = df.loc[section_index]\n",
    "        \n",
    "        chosen_sections_len += document_section.tokens + separator_len\n",
    "        if chosen_sections_len > MAX_SECTION_LEN:\n",
    "            break\n",
    "            \n",
    "        chosen_sections.append(SEPARATOR + document_section.content.replace(\"\\n\", \" \"))\n",
    "        chosen_sections_indexes.append(str(section_index))\n",
    "            \n",
    "    # Useful diagnostic information\n",
    "    print(f\"Selected {len(chosen_sections)} document sections:\")\n",
    "    print(\"\\n\".join(chosen_sections_indexes))\n",
    "    \n",
    "    header = \"\"\"Answer the question as truthfully as possible using the provided context, and if the answer is not contained within the text below, say \"I don't know.\"\\n\\nContext:\\n\"\"\"\n",
    "    \n",
    "    return header + \"\".join(chosen_sections) + \"\\n\\n Q: \" + question + \"\\n A:\""
   ]
  },
  {
   "cell_type": "code",
   "execution_count": 158,
   "id": "be5b668f",
   "metadata": {},
   "outputs": [
    {
     "name": "stdout",
     "output_type": "stream",
     "text": [
      "Selected 6 document sections:\n",
      "('Questions and answers - Why Join Pro', 'Join Pro')\n",
      "('Questions and answers - Customizing URLs', 'Url')\n",
      "('Questions and answers - Art and design lovers', 'Summary')\n",
      "('Questions and answers - Pro members', 'Summary')\n",
      "('Questions and answers - Commercial Curation Services', 'Summary')\n",
      "('Questions and answers - Artist centered', 'Summary')\n",
      "===\n",
      " Answer the question as truthfully as possible using the provided context, and if the answer is not contained within the text below, say \"I don't know.\"\n",
      "\n",
      "Context:\n",
      "\n",
      "* Pro members get access to many exclusive benefits. Special selling opportunities, priority consideration for commercial projects, paid programs, and professional development.\n",
      "* Your overall profile, artwork, and portfolios can each have a custom friendly URL. When you join Artrepreneur, you’ll have the option of customizing your Profile URL. You can do so by going to your profile page and clicking the pencil icon in the upper right to edit the summary section. Then you can add your customized URL as shown below. \n",
      "* Discover works in over 75 categories and styles from over 100 thousand artists, designers, and makers across the globe. Hire art & design talent for their next creative project. Subscribe to our YouTube channel, showcasing artful careers and notable visual art and design works. Follow our social media pages on Instagram, Facebook, Linked In, Twitter, and Pinterest. Become part of a global art community to show support for great artists worldwide!\n",
      "* A personal Showroom to sell their original and limited edition works. No approval required. Priority placement in Artrepreneur browse and search. Exclusive promotional, learning, and professional development opportunities on Artrepreneur and popular social media platforms. Indexing on public search engines Google, Bing, etc.\n",
      "* We help businesses, architects, designers, and organizations with permanent installations, exhibitions, real estate projects, and marketing programs that promote your brand or purpose globally.\n",
      "* Your purchase directly supports working artists, thanks to Artrepreneur's 0 commission pledge.\n",
      "\n",
      " Q: How do I become a member?\n",
      " A:\n"
     ]
    }
   ],
   "source": [
    "prompt = construct_prompt(\n",
    "    \"How do I become a member?\",\n",
    "    document_embeddings,\n",
    "    df\n",
    ")\n",
    "\n",
    "print(\"===\\n\", prompt)"
   ]
  },
  {
   "cell_type": "markdown",
   "id": "6e9952b1",
   "metadata": {},
   "source": [
    "<h2>4) Answer the user's question based on the context.</h2>\n",
    "<h3>Now that we've retrieved the relevant context and constructed our prompt, we can finally use the Completions API to answer the user's query.</h3>\n"
   ]
  },
  {
   "cell_type": "code",
   "execution_count": 172,
   "id": "db55085c",
   "metadata": {},
   "outputs": [],
   "source": [
    "COMPLETIONS_API_PARAMS = {\n",
    "    # We use temperature of 0.0 because it gives the most predictable, factual answer.\n",
    "    \"temperature\": 0.0,\n",
    "    \"max_tokens\": 300,\n",
    "    \"model\": COMPLETIONS_MODEL,\n",
    "}"
   ]
  },
  {
   "cell_type": "code",
   "execution_count": 173,
   "id": "d66fcde0",
   "metadata": {},
   "outputs": [],
   "source": [
    "def answer_query_with_context(\n",
    "    query: str,\n",
    "    df: pd.DataFrame,\n",
    "    document_embeddings: dict[(str, str), np.array],\n",
    "    show_prompt: bool = False\n",
    ") -> str:\n",
    "    prompt = construct_prompt(\n",
    "        query,\n",
    "        document_embeddings,\n",
    "        df\n",
    "    )\n",
    "    \n",
    "    if show_prompt:\n",
    "        print(prompt)\n",
    "\n",
    "    response = openai.Completion.create(\n",
    "                prompt=prompt,\n",
    "                **COMPLETIONS_API_PARAMS\n",
    "            )\n",
    "\n",
    "    return response[\"choices\"][0][\"text\"].strip(\" \\n\")"
   ]
  },
  {
   "cell_type": "code",
   "execution_count": 174,
   "id": "91bd7e24",
   "metadata": {},
   "outputs": [
    {
     "name": "stdout",
     "output_type": "stream",
     "text": [
      "Selected 7 document sections:\n",
      "('Questions and answers - Commercial Curation Services', 'Summary')\n",
      "('Questions and answers - Artist centered', 'Summary')\n",
      "('Questions and answers - Why Join Pro', 'Join Pro')\n",
      "('Questions and answers - Art and design lovers', 'Summary')\n",
      "('Questions and answers - Expert Selected', 'Summary')\n",
      "('Questions and answers - Quality Reviewed', 'Summary')\n",
      "('Questions and answers - Pro members', 'Summary')\n"
     ]
    },
    {
     "data": {
      "text/plain": [
       "\"We help businesses, architects, designers, and organizations with permanent installations, exhibitions, real estate projects, and marketing programs that promote your brand or purpose globally.\\n\\nYour purchase directly supports working artists, thanks to Artrepreneur's 0 commission pledge.\\n\\nPro members get access to many exclusive benefits. Special selling opportunities, priority consideration for commercial projects, paid programs, and professional development.\\n\\nDiscover works in over 75 categories and styles from over 100 thousand artists, designers, and makers across the globe. Hire art & design talent for their next creative project. Subscribe to our YouTube channel, showcasing artful careers and notable visual art and design works.\\n\\nFollow our social media pages on Instagram, Facebook, Linked In, Twitter, and Pinterest. Become part of a global art community to show support for great artists worldwide!\\n\\nEach artwork is hand-picked by our seasoned curatorial team to bring you the best works from around the world.\\n\\nAll the works in both our Print and Buy Direct stores are carefully reviewed for high quality standards.\\n\\nA personal Showroom to sell their original and limited edition works. No approval required. Priority placement in Artrepreneur browse and search.\\n\\nExclusive promotional, learning, and professional development opportunities on Artrepreneur and popular social media platforms.\\n\\nIndexing on public search engines Google, Bing, etc.\""
      ]
     },
     "execution_count": 174,
     "metadata": {},
     "output_type": "execute_result"
    }
   ],
   "source": [
    "answer_query_with_context(\"Who do you help?\", df, document_embeddings)"
   ]
  },
  {
   "cell_type": "markdown",
   "id": "bc90be24",
   "metadata": {},
   "source": [
    "<h3>More Examples</h3>"
   ]
  },
  {
   "cell_type": "code",
   "execution_count": 175,
   "id": "81f1480b",
   "metadata": {},
   "outputs": [
    {
     "name": "stdout",
     "output_type": "stream",
     "text": [
      "Selected 6 document sections:\n",
      "('Questions and answers - Expert Selected', 'Summary')\n",
      "('Questions and answers - Art and design lovers', 'Summary')\n",
      "('Questions and answers - Commercial Curation Services', 'Summary')\n",
      "('Questions and answers - Pro members', 'Summary')\n",
      "('Questions and answers - Customizing URLs', 'Url')\n",
      "('Questions and answers - Artist centered', 'Summary')\n",
      "\n",
      "Q: Do you have curators?\n",
      "A: Each artwork is hand-picked by our seasoned curatorial team to bring you the best works from around the world.\n",
      "\n",
      "Yes, we have curators who select the works that will be featured on our website.\n"
     ]
    }
   ],
   "source": [
    "query = \"Do you have curators?\"\n",
    "answer = answer_query_with_context(query, df, document_embeddings)\n",
    "\n",
    "print(f\"\\nQ: {query}\\nA: {answer}\")"
   ]
  },
  {
   "cell_type": "code",
   "execution_count": 181,
   "id": "bf8fab0c",
   "metadata": {},
   "outputs": [
    {
     "name": "stdout",
     "output_type": "stream",
     "text": [
      "Selected 6 document sections:\n",
      "('Questions and answers - Customizing URLs', 'Url')\n",
      "('Questions and answers - Pro members', 'Summary')\n",
      "('Questions and answers - Commercial Curation Services', 'Summary')\n",
      "('Questions and answers - Art and design lovers', 'Summary')\n",
      "('Questions and answers - Why Join Pro', 'Join Pro')\n",
      "('Questions and answers - Quality Reviewed', 'Summary')\n",
      "\n",
      "Q: How do I make a custom URL?\n",
      "A: You can make a custom URL by going to your profile page and clicking the pencil icon in the upper right to edit the summary section. Then you can add your customized URL as shown below.\n"
     ]
    }
   ],
   "source": [
    "query = \"How do I make a custom URL?\"\n",
    "answer = answer_query_with_context(query, df, document_embeddings)\n",
    "\n",
    "print(f\"\\nQ: {query}\\nA: {answer}\")"
   ]
  },
  {
   "cell_type": "code",
   "execution_count": 179,
   "id": "0268999a",
   "metadata": {},
   "outputs": [
    {
     "name": "stdout",
     "output_type": "stream",
     "text": [
      "Selected 7 document sections:\n",
      "('Questions and answers - Pro members', 'Summary')\n",
      "('Questions and answers - Commercial Curation Services', 'Summary')\n",
      "('Questions and answers - Expert Selected', 'Summary')\n",
      "('Questions and answers - Quality Reviewed', 'Summary')\n",
      "('Questions and answers - Why Join Pro', 'Join Pro')\n",
      "('Questions and answers - Art and design lovers', 'Summary')\n",
      "('Questions and answers - Artist centered', 'Summary')\n",
      "\n",
      "Q: What is a personal showroom?\n",
      "A: A personal showroom is a space where an individual can sell their original and limited edition works. There is no approval required for this type of business. Priority placement in the Art Entrepreneur browse and search is available to personal showrooms. Exclusive promotional, learning, and professional development opportunities are also available on Artrepreneur and popular social media platforms. Indexing on public search engines, such as Google, Bing, and Yahoo, is available to personal showrooms.\n"
     ]
    }
   ],
   "source": [
    "query = \"What is a personal showroom?\"\n",
    "answer = answer_query_with_context(query, df, document_embeddings)\n",
    "\n",
    "print(f\"\\nQ: {query}\\nA: {answer}\")"
   ]
  },
  {
   "cell_type": "markdown",
   "id": "60a61498",
   "metadata": {},
   "source": [
    "-------------------------------------------------------------------------------------------------------------------"
   ]
  }
 ],
 "metadata": {
  "kernelspec": {
   "display_name": "Python 3 (ipykernel)",
   "language": "python",
   "name": "python3"
  },
  "language_info": {
   "codemirror_mode": {
    "name": "ipython",
    "version": 3
   },
   "file_extension": ".py",
   "mimetype": "text/x-python",
   "name": "python",
   "nbconvert_exporter": "python",
   "pygments_lexer": "ipython3",
   "version": "3.10.6"
  }
 },
 "nbformat": 4,
 "nbformat_minor": 5
}
